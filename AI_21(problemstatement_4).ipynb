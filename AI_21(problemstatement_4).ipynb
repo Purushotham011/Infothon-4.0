{
  "cells": [
    {
      "cell_type": "markdown",
      "metadata": {
        "id": "view-in-github",
        "colab_type": "text"
      },
      "source": [
        "<a href=\"https://colab.research.google.com/github/Purushotham011/Infothon-4.0/blob/main/AI_21(problemstatement_4).ipynb\" target=\"_parent\"><img src=\"https://colab.research.google.com/assets/colab-badge.svg\" alt=\"Open In Colab\"/></a>"
      ]
    },
    {
      "cell_type": "code",
      "execution_count": null,
      "metadata": {
        "colab": {
          "base_uri": "https://localhost:8080/"
        },
        "id": "e0OZXRxWknow",
        "outputId": "28a7cd7c-c93f-4c72-e231-07d97e48980b"
      },
      "outputs": [
        {
          "output_type": "stream",
          "name": "stdout",
          "text": [
            "Collecting pygad\n",
            "  Downloading pygad-3.4.0-py3-none-any.whl.metadata (23 kB)\n",
            "Requirement already satisfied: cloudpickle in /usr/local/lib/python3.11/dist-packages (from pygad) (3.1.1)\n",
            "Requirement already satisfied: matplotlib in /usr/local/lib/python3.11/dist-packages (from pygad) (3.10.0)\n",
            "Requirement already satisfied: numpy in /usr/local/lib/python3.11/dist-packages (from pygad) (1.26.4)\n",
            "Requirement already satisfied: contourpy>=1.0.1 in /usr/local/lib/python3.11/dist-packages (from matplotlib->pygad) (1.3.1)\n",
            "Requirement already satisfied: cycler>=0.10 in /usr/local/lib/python3.11/dist-packages (from matplotlib->pygad) (0.12.1)\n",
            "Requirement already satisfied: fonttools>=4.22.0 in /usr/local/lib/python3.11/dist-packages (from matplotlib->pygad) (4.56.0)\n",
            "Requirement already satisfied: kiwisolver>=1.3.1 in /usr/local/lib/python3.11/dist-packages (from matplotlib->pygad) (1.4.8)\n",
            "Requirement already satisfied: packaging>=20.0 in /usr/local/lib/python3.11/dist-packages (from matplotlib->pygad) (24.2)\n",
            "Requirement already satisfied: pillow>=8 in /usr/local/lib/python3.11/dist-packages (from matplotlib->pygad) (11.1.0)\n",
            "Requirement already satisfied: pyparsing>=2.3.1 in /usr/local/lib/python3.11/dist-packages (from matplotlib->pygad) (3.2.1)\n",
            "Requirement already satisfied: python-dateutil>=2.7 in /usr/local/lib/python3.11/dist-packages (from matplotlib->pygad) (2.8.2)\n",
            "Requirement already satisfied: six>=1.5 in /usr/local/lib/python3.11/dist-packages (from python-dateutil>=2.7->matplotlib->pygad) (1.17.0)\n",
            "Downloading pygad-3.4.0-py3-none-any.whl (86 kB)\n",
            "\u001b[2K   \u001b[90m━━━━━━━━━━━━━━━━━━━━━━━━━━━━━━━━━━━━━━━━\u001b[0m \u001b[32m86.8/86.8 kB\u001b[0m \u001b[31m8.2 MB/s\u001b[0m eta \u001b[36m0:00:00\u001b[0m\n",
            "\u001b[?25hInstalling collected packages: pygad\n",
            "Successfully installed pygad-3.4.0\n",
            "Collecting streamlit\n",
            "  Downloading streamlit-1.42.0-py2.py3-none-any.whl.metadata (8.9 kB)\n",
            "Requirement already satisfied: altair<6,>=4.0 in /usr/local/lib/python3.11/dist-packages (from streamlit) (5.5.0)\n",
            "Requirement already satisfied: blinker<2,>=1.0.0 in /usr/local/lib/python3.11/dist-packages (from streamlit) (1.9.0)\n",
            "Requirement already satisfied: cachetools<6,>=4.0 in /usr/local/lib/python3.11/dist-packages (from streamlit) (5.5.1)\n",
            "Requirement already satisfied: click<9,>=7.0 in /usr/local/lib/python3.11/dist-packages (from streamlit) (8.1.8)\n",
            "Requirement already satisfied: numpy<3,>=1.23 in /usr/local/lib/python3.11/dist-packages (from streamlit) (1.26.4)\n",
            "Requirement already satisfied: packaging<25,>=20 in /usr/local/lib/python3.11/dist-packages (from streamlit) (24.2)\n",
            "Requirement already satisfied: pandas<3,>=1.4.0 in /usr/local/lib/python3.11/dist-packages (from streamlit) (2.2.2)\n",
            "Requirement already satisfied: pillow<12,>=7.1.0 in /usr/local/lib/python3.11/dist-packages (from streamlit) (11.1.0)\n",
            "Requirement already satisfied: protobuf<6,>=3.20 in /usr/local/lib/python3.11/dist-packages (from streamlit) (4.25.6)\n",
            "Requirement already satisfied: pyarrow>=7.0 in /usr/local/lib/python3.11/dist-packages (from streamlit) (17.0.0)\n",
            "Requirement already satisfied: requests<3,>=2.27 in /usr/local/lib/python3.11/dist-packages (from streamlit) (2.32.3)\n",
            "Requirement already satisfied: rich<14,>=10.14.0 in /usr/local/lib/python3.11/dist-packages (from streamlit) (13.9.4)\n",
            "Requirement already satisfied: tenacity<10,>=8.1.0 in /usr/local/lib/python3.11/dist-packages (from streamlit) (9.0.0)\n",
            "Requirement already satisfied: toml<2,>=0.10.1 in /usr/local/lib/python3.11/dist-packages (from streamlit) (0.10.2)\n",
            "Requirement already satisfied: typing-extensions<5,>=4.4.0 in /usr/local/lib/python3.11/dist-packages (from streamlit) (4.12.2)\n",
            "Collecting watchdog<7,>=2.1.5 (from streamlit)\n",
            "  Downloading watchdog-6.0.0-py3-none-manylinux2014_x86_64.whl.metadata (44 kB)\n",
            "\u001b[2K     \u001b[90m━━━━━━━━━━━━━━━━━━━━━━━━━━━━━━━━━━━━━━━━\u001b[0m \u001b[32m44.3/44.3 kB\u001b[0m \u001b[31m4.5 MB/s\u001b[0m eta \u001b[36m0:00:00\u001b[0m\n",
            "\u001b[?25hRequirement already satisfied: gitpython!=3.1.19,<4,>=3.0.7 in /usr/local/lib/python3.11/dist-packages (from streamlit) (3.1.44)\n",
            "Collecting pydeck<1,>=0.8.0b4 (from streamlit)\n",
            "  Downloading pydeck-0.9.1-py2.py3-none-any.whl.metadata (4.1 kB)\n",
            "Requirement already satisfied: tornado<7,>=6.0.3 in /usr/local/lib/python3.11/dist-packages (from streamlit) (6.4.2)\n",
            "Requirement already satisfied: jinja2 in /usr/local/lib/python3.11/dist-packages (from altair<6,>=4.0->streamlit) (3.1.5)\n",
            "Requirement already satisfied: jsonschema>=3.0 in /usr/local/lib/python3.11/dist-packages (from altair<6,>=4.0->streamlit) (4.23.0)\n",
            "Requirement already satisfied: narwhals>=1.14.2 in /usr/local/lib/python3.11/dist-packages (from altair<6,>=4.0->streamlit) (1.26.0)\n",
            "Requirement already satisfied: gitdb<5,>=4.0.1 in /usr/local/lib/python3.11/dist-packages (from gitpython!=3.1.19,<4,>=3.0.7->streamlit) (4.0.12)\n",
            "Requirement already satisfied: python-dateutil>=2.8.2 in /usr/local/lib/python3.11/dist-packages (from pandas<3,>=1.4.0->streamlit) (2.8.2)\n",
            "Requirement already satisfied: pytz>=2020.1 in /usr/local/lib/python3.11/dist-packages (from pandas<3,>=1.4.0->streamlit) (2025.1)\n",
            "Requirement already satisfied: tzdata>=2022.7 in /usr/local/lib/python3.11/dist-packages (from pandas<3,>=1.4.0->streamlit) (2025.1)\n",
            "Requirement already satisfied: charset-normalizer<4,>=2 in /usr/local/lib/python3.11/dist-packages (from requests<3,>=2.27->streamlit) (3.4.1)\n",
            "Requirement already satisfied: idna<4,>=2.5 in /usr/local/lib/python3.11/dist-packages (from requests<3,>=2.27->streamlit) (3.10)\n",
            "Requirement already satisfied: urllib3<3,>=1.21.1 in /usr/local/lib/python3.11/dist-packages (from requests<3,>=2.27->streamlit) (2.3.0)\n",
            "Requirement already satisfied: certifi>=2017.4.17 in /usr/local/lib/python3.11/dist-packages (from requests<3,>=2.27->streamlit) (2025.1.31)\n",
            "Requirement already satisfied: markdown-it-py>=2.2.0 in /usr/local/lib/python3.11/dist-packages (from rich<14,>=10.14.0->streamlit) (3.0.0)\n",
            "Requirement already satisfied: pygments<3.0.0,>=2.13.0 in /usr/local/lib/python3.11/dist-packages (from rich<14,>=10.14.0->streamlit) (2.18.0)\n",
            "Requirement already satisfied: smmap<6,>=3.0.1 in /usr/local/lib/python3.11/dist-packages (from gitdb<5,>=4.0.1->gitpython!=3.1.19,<4,>=3.0.7->streamlit) (5.0.2)\n",
            "Requirement already satisfied: MarkupSafe>=2.0 in /usr/local/lib/python3.11/dist-packages (from jinja2->altair<6,>=4.0->streamlit) (3.0.2)\n",
            "Requirement already satisfied: attrs>=22.2.0 in /usr/local/lib/python3.11/dist-packages (from jsonschema>=3.0->altair<6,>=4.0->streamlit) (25.1.0)\n",
            "Requirement already satisfied: jsonschema-specifications>=2023.03.6 in /usr/local/lib/python3.11/dist-packages (from jsonschema>=3.0->altair<6,>=4.0->streamlit) (2024.10.1)\n",
            "Requirement already satisfied: referencing>=0.28.4 in /usr/local/lib/python3.11/dist-packages (from jsonschema>=3.0->altair<6,>=4.0->streamlit) (0.36.2)\n",
            "Requirement already satisfied: rpds-py>=0.7.1 in /usr/local/lib/python3.11/dist-packages (from jsonschema>=3.0->altair<6,>=4.0->streamlit) (0.22.3)\n",
            "Requirement already satisfied: mdurl~=0.1 in /usr/local/lib/python3.11/dist-packages (from markdown-it-py>=2.2.0->rich<14,>=10.14.0->streamlit) (0.1.2)\n",
            "Requirement already satisfied: six>=1.5 in /usr/local/lib/python3.11/dist-packages (from python-dateutil>=2.8.2->pandas<3,>=1.4.0->streamlit) (1.17.0)\n",
            "Downloading streamlit-1.42.0-py2.py3-none-any.whl (9.6 MB)\n",
            "\u001b[2K   \u001b[90m━━━━━━━━━━━━━━━━━━━━━━━━━━━━━━━━━━━━━━━━\u001b[0m \u001b[32m9.6/9.6 MB\u001b[0m \u001b[31m80.5 MB/s\u001b[0m eta \u001b[36m0:00:00\u001b[0m\n",
            "\u001b[?25hDownloading pydeck-0.9.1-py2.py3-none-any.whl (6.9 MB)\n",
            "\u001b[2K   \u001b[90m━━━━━━━━━━━━━━━━━━━━━━━━━━━━━━━━━━━━━━━━\u001b[0m \u001b[32m6.9/6.9 MB\u001b[0m \u001b[31m74.9 MB/s\u001b[0m eta \u001b[36m0:00:00\u001b[0m\n",
            "\u001b[?25hDownloading watchdog-6.0.0-py3-none-manylinux2014_x86_64.whl (79 kB)\n",
            "\u001b[2K   \u001b[90m━━━━━━━━━━━━━━━━━━━━━━━━━━━━━━━━━━━━━━━━\u001b[0m \u001b[32m79.1/79.1 kB\u001b[0m \u001b[31m8.1 MB/s\u001b[0m eta \u001b[36m0:00:00\u001b[0m\n",
            "\u001b[?25hInstalling collected packages: watchdog, pydeck, streamlit\n",
            "Successfully installed pydeck-0.9.1 streamlit-1.42.0 watchdog-6.0.0\n"
          ]
        },
        {
          "output_type": "stream",
          "name": "stderr",
          "text": [
            "/usr/local/lib/python3.11/dist-packages/keras/src/layers/rnn/rnn.py:200: UserWarning: Do not pass an `input_shape`/`input_dim` argument to a layer. When using Sequential models, prefer using an `Input(shape)` object as the first layer in the model instead.\n",
            "  super().__init__(**kwargs)\n"
          ]
        },
        {
          "output_type": "stream",
          "name": "stdout",
          "text": [
            "Epoch 1/10\n",
            "\u001b[1m2500/2500\u001b[0m \u001b[32m━━━━━━━━━━━━━━━━━━━━\u001b[0m\u001b[37m\u001b[0m \u001b[1m19s\u001b[0m 6ms/step - loss: 1496.4020 - val_loss: 830.8597\n",
            "Epoch 2/10\n",
            "\u001b[1m2500/2500\u001b[0m \u001b[32m━━━━━━━━━━━━━━━━━━━━\u001b[0m\u001b[37m\u001b[0m \u001b[1m18s\u001b[0m 6ms/step - loss: 832.9252 - val_loss: 830.9379\n",
            "Epoch 3/10\n",
            "\u001b[1m2500/2500\u001b[0m \u001b[32m━━━━━━━━━━━━━━━━━━━━\u001b[0m\u001b[37m\u001b[0m \u001b[1m14s\u001b[0m 6ms/step - loss: 831.3445 - val_loss: 228.3197\n",
            "Epoch 4/10\n",
            "\u001b[1m2500/2500\u001b[0m \u001b[32m━━━━━━━━━━━━━━━━━━━━\u001b[0m\u001b[37m\u001b[0m \u001b[1m14s\u001b[0m 6ms/step - loss: 74.1890 - val_loss: 4.1471\n",
            "Epoch 5/10\n",
            "\u001b[1m2500/2500\u001b[0m \u001b[32m━━━━━━━━━━━━━━━━━━━━\u001b[0m\u001b[37m\u001b[0m \u001b[1m16s\u001b[0m 6ms/step - loss: 11.4182 - val_loss: 3.0661\n",
            "Epoch 6/10\n",
            "\u001b[1m2500/2500\u001b[0m \u001b[32m━━━━━━━━━━━━━━━━━━━━\u001b[0m\u001b[37m\u001b[0m \u001b[1m16s\u001b[0m 6ms/step - loss: 8.3099 - val_loss: 1.4239\n",
            "Epoch 7/10\n",
            "\u001b[1m2500/2500\u001b[0m \u001b[32m━━━━━━━━━━━━━━━━━━━━\u001b[0m\u001b[37m\u001b[0m \u001b[1m19s\u001b[0m 6ms/step - loss: 6.3067 - val_loss: 1.2867\n",
            "Epoch 8/10\n",
            "\u001b[1m2500/2500\u001b[0m \u001b[32m━━━━━━━━━━━━━━━━━━━━\u001b[0m\u001b[37m\u001b[0m \u001b[1m15s\u001b[0m 6ms/step - loss: 5.2361 - val_loss: 0.8973\n",
            "Epoch 9/10\n",
            "\u001b[1m2500/2500\u001b[0m \u001b[32m━━━━━━━━━━━━━━━━━━━━\u001b[0m\u001b[37m\u001b[0m \u001b[1m21s\u001b[0m 6ms/step - loss: 4.5310 - val_loss: 1.1402\n",
            "Epoch 10/10\n",
            "\u001b[1m2500/2500\u001b[0m \u001b[32m━━━━━━━━━━━━━━━━━━━━\u001b[0m\u001b[37m\u001b[0m \u001b[1m19s\u001b[0m 6ms/step - loss: 4.1238 - val_loss: 0.4964\n",
            "Epoch 1/10\n"
          ]
        },
        {
          "output_type": "stream",
          "name": "stderr",
          "text": [
            "/usr/local/lib/python3.11/dist-packages/keras/src/layers/core/dense.py:87: UserWarning: Do not pass an `input_shape`/`input_dim` argument to a layer. When using Sequential models, prefer using an `Input(shape)` object as the first layer in the model instead.\n",
            "  super().__init__(activity_regularizer=activity_regularizer, **kwargs)\n"
          ]
        },
        {
          "output_type": "stream",
          "name": "stdout",
          "text": [
            "\u001b[1m2500/2500\u001b[0m \u001b[32m━━━━━━━━━━━━━━━━━━━━\u001b[0m\u001b[37m\u001b[0m \u001b[1m9s\u001b[0m 3ms/step - loss: 815.1439 - val_loss: 1.5510\n",
            "Epoch 2/10\n",
            "\u001b[1m2500/2500\u001b[0m \u001b[32m━━━━━━━━━━━━━━━━━━━━\u001b[0m\u001b[37m\u001b[0m \u001b[1m9s\u001b[0m 3ms/step - loss: 19.1153 - val_loss: 0.2441\n",
            "Epoch 3/10\n",
            "\u001b[1m2500/2500\u001b[0m \u001b[32m━━━━━━━━━━━━━━━━━━━━\u001b[0m\u001b[37m\u001b[0m \u001b[1m6s\u001b[0m 3ms/step - loss: 15.6389 - val_loss: 0.0808\n",
            "Epoch 4/10\n",
            "\u001b[1m2500/2500\u001b[0m \u001b[32m━━━━━━━━━━━━━━━━━━━━\u001b[0m\u001b[37m\u001b[0m \u001b[1m10s\u001b[0m 2ms/step - loss: 13.1285 - val_loss: 0.0755\n",
            "Epoch 5/10\n",
            "\u001b[1m2500/2500\u001b[0m \u001b[32m━━━━━━━━━━━━━━━━━━━━\u001b[0m\u001b[37m\u001b[0m \u001b[1m10s\u001b[0m 2ms/step - loss: 10.6366 - val_loss: 0.1421\n",
            "Epoch 6/10\n",
            "\u001b[1m2500/2500\u001b[0m \u001b[32m━━━━━━━━━━━━━━━━━━━━\u001b[0m\u001b[37m\u001b[0m \u001b[1m10s\u001b[0m 2ms/step - loss: 8.3247 - val_loss: 0.1902\n",
            "Epoch 7/10\n",
            "\u001b[1m2500/2500\u001b[0m \u001b[32m━━━━━━━━━━━━━━━━━━━━\u001b[0m\u001b[37m\u001b[0m \u001b[1m11s\u001b[0m 3ms/step - loss: 6.4196 - val_loss: 0.1608\n",
            "Epoch 8/10\n",
            "\u001b[1m2500/2500\u001b[0m \u001b[32m━━━━━━━━━━━━━━━━━━━━\u001b[0m\u001b[37m\u001b[0m \u001b[1m10s\u001b[0m 3ms/step - loss: 4.8087 - val_loss: 0.1233\n",
            "Epoch 9/10\n",
            "\u001b[1m2500/2500\u001b[0m \u001b[32m━━━━━━━━━━━━━━━━━━━━\u001b[0m\u001b[37m\u001b[0m \u001b[1m10s\u001b[0m 3ms/step - loss: 3.5278 - val_loss: 0.1730\n",
            "Epoch 10/10\n",
            "\u001b[1m2500/2500\u001b[0m \u001b[32m━━━━━━━━━━━━━━━━━━━━\u001b[0m\u001b[37m\u001b[0m \u001b[1m6s\u001b[0m 3ms/step - loss: 2.7214 - val_loss: 0.2182\n",
            "Final Model MSE: 0.03214782917683093\n"
          ]
        },
        {
          "output_type": "stream",
          "name": "stderr",
          "text": [
            "/usr/local/lib/python3.11/dist-packages/pygad/pygad.py:724: UserWarning: The percentage of genes to mutate (mutation_percent_genes=10) resulted in selecting (0) genes. The number of genes to mutate is set to 1 (mutation_num_genes=1).\n",
            "If you do not want to mutate any gene, please set mutation_type=None.\n",
            "  warnings.warn(\n"
          ]
        }
      ],
      "source": [
        "!pip install pygad\n",
        "!pip install streamlit\n",
        "import pandas as pd\n",
        "import numpy as np\n",
        "from sklearn.preprocessing import MinMaxScaler\n",
        "from sklearn.model_selection import train_test_split\n",
        "import tensorflow as tf\n",
        "from tensorflow.keras.models import Sequential\n",
        "from tensorflow.keras.layers import LSTM, Dense, Dropout\n",
        "import xgboost as xgb\n",
        "import pygad\n",
        "import streamlit as st\n",
        "\n",
        "# Load Dataset\n",
        "dataset_path = 'expanded_carbon_dataset.csv'  # Replace with your actual dataset path\n",
        "df = pd.read_csv(dataset_path)\n",
        "\n",
        "# Preprocessing: Handling missing values, normalization\n",
        "scaler = MinMaxScaler()\n",
        "\n",
        "# Convert columns to numeric if possible before filling NaN\n",
        "for col in df.columns:\n",
        "    if df[col].dtype == 'object':  # Check if the column is of object type\n",
        "        try:\n",
        "            df[col] = pd.to_numeric(df[col], errors='coerce')  # Convert to numeric, invalid parsing will be set as NaN\n",
        "        except:\n",
        "            pass  # Skip if column cannot be converted\n",
        "\n",
        "df.fillna(df.mean(), inplace=True)  # Now fill NaN after attempting conversion\n",
        "\n",
        "scaled_features = scaler.fit_transform(df.drop(columns=['id', 'timestamp', 'user_type', 'country', 'sector', 'diet_impact']))\n",
        "\n",
        "# Splitting data\n",
        "X_train, X_test, y_train, y_test = train_test_split(scaled_features, df['emissions_tons'], test_size=0.2,\n",
        "                                                    random_state=42)\n",
        "\n",
        "# LSTM Model for Time-Series Data\n",
        "lstm_model = Sequential([\n",
        "    LSTM(50, return_sequences=True, input_shape=(X_train.shape[1], 1)),\n",
        "    Dropout(0.2),\n",
        "    LSTM(50),\n",
        "    Dense(1)\n",
        "])\n",
        "lstm_model.compile(loss='mse', optimizer='adam')\n",
        "lstm_model.fit(X_train, y_train, epochs=10, batch_size=32, validation_data=(X_test, y_test))\n",
        "\n",
        "# ANN Model for Non-Linear Data\n",
        "ann_model = Sequential([\n",
        "    Dense(64, activation='relu', input_shape=(X_train.shape[1],)),\n",
        "    Dropout(0.2),\n",
        "    Dense(32, activation='relu'),\n",
        "    Dense(1)\n",
        "])\n",
        "ann_model.compile(loss='mse', optimizer='adam')\n",
        "ann_model.fit(X_train, y_train, epochs=10, batch_size=32, validation_data=(X_test, y_test))\n",
        "\n",
        "# XGBoost Model for Enhanced Predictions\n",
        "xgb_model = xgb.XGBRegressor(objective='reg:squarederror', n_estimators=100)\n",
        "xgb_model.fit(X_train, y_train)\n",
        "\n",
        "# PyGAD Optimization to Suggest Reduction Strategies\n",
        "def fitness_function(ga_instance, solution, solution_idx):\n",
        "    \"\"\"\n",
        "    Calculates the fitness of a solution.\n",
        "\n",
        "    Args:\n",
        "        ga_instance: The instance of the pygad.GA class.\n",
        "        solution: The solution to evaluate.\n",
        "        solution_idx: The index of the solution within the population.\n",
        "\n",
        "    Returns:\n",
        "        The fitness value of the solution (negative prediction to minimize emissions).\n",
        "    \"\"\"\n",
        "    prediction = xgb_model.predict([solution])[0]\n",
        "    return -prediction  # Minimizing emissions\n",
        "\n",
        "\n",
        "ga_instance = pygad.GA(num_generations=10, num_parents_mating=5, fitness_func=fitness_function,\n",
        "                        sol_per_pop=10, num_genes=X_train.shape[1])\n",
        "ga_instance.run()\n",
        "\n",
        "# Final Model Evaluation\n",
        "final_prediction = xgb_model.predict(X_test)\n",
        "mse = np.mean((final_prediction - y_test) ** 2)\n",
        "print(f\"Final Model MSE: {mse}\")\n",
        "\n"
      ]
    },
    {
      "cell_type": "code",
      "execution_count": null,
      "metadata": {
        "colab": {
          "base_uri": "https://localhost:8080/"
        },
        "id": "va8j8pZquQQ0",
        "outputId": "b8f098f2-344f-4ba7-cf2d-9a85155f0879"
      },
      "outputs": [
        {
          "output_type": "stream",
          "name": "stdout",
          "text": [
            "Expected features: 6\n"
          ]
        }
      ],
      "source": [
        "print(\"Expected features:\", scaler.n_features_in_)\n"
      ]
    },
    {
      "cell_type": "code",
      "execution_count": null,
      "metadata": {
        "id": "EHI5oHp6mPSo"
      },
      "outputs": [],
      "source": [
        "!pip install streamlit pyngrok --quiet"
      ]
    },
    {
      "cell_type": "code",
      "execution_count": null,
      "metadata": {
        "id": "1k1kPgb5mSz3"
      },
      "outputs": [],
      "source": [
        "from pyngrok import ngrok\n"
      ]
    },
    {
      "cell_type": "code",
      "source": [
        "%%writefile app.py\n",
        "import streamlit as st\n",
        "import numpy as np\n",
        "import joblib\n",
        "import shap\n",
        "import matplotlib.pyplot as plt\n",
        "import pandas as pd\n",
        "import google.generativeai as genai\n",
        "import os\n",
        "\n",
        "# ✅ Set Gemini API Key (Replace with your actual key)\n",
        "os.environ[\"GEMINI_API_KEY\"] = \KEY\n",
        "\n",
        "# ✅ Configure Gemini API\n",
        "genai.configure(api_key=os.getenv(\"GEMINI_API_KEY\"))\n",
        "\n",
        "# ✅ Load Model & Scaler\n",
        "scaler = joblib.load(\"scaler.pkl\")\n",
        "xgb_model = joblib.load(\"xgb_model.pkl\")\n",
        "\n",
        "# ✅ Define feature names\n",
        "feature_names = [\"Energy Consumption (kWh)\", \"Transport Distance (km)\", \"Waste Generated (kg)\",\n",
        "                 \"Diet Impact Score\", \"Sector Impact Score\", \"Industrial Energy Usage (kWh)\"]\n",
        "\n",
        "# ✅ Streamlit UI\n",
        "st.set_page_config(page_title=\"🌍 Carbon Footprint Tracker & Sustainability Chatbot\", layout=\"centered\")\n",
        "\n",
        "st.title(\"🌍 Carbon Footprint Tracker\")\n",
        "\n",
        "user_type = st.selectbox(\"Select User Type\", [\"Individual\", \"Business\"])\n",
        "energy_usage = st.number_input(\"⚡ Energy Consumption (kWh)\", min_value=0.0)\n",
        "transport_distance = st.number_input(\"🚗 Transport Distance (km)\", min_value=0.0)\n",
        "waste_generated = st.number_input(\"♻️ Waste Generated (kg)\", min_value=0.0)\n",
        "diet_impact = st.number_input(\"🥗 Diet Impact Score\", min_value=0.0)\n",
        "sector_impact = st.number_input(\"🏭 Sector Impact Score\", min_value=0.0)\n",
        "industrial_usage = st.number_input(\"⚙️ Industrial Energy Usage (kWh)\", min_value=0.0)\n",
        "\n",
        "if st.button(\"🔍 Predict Carbon Footprint\"):\n",
        "    # Prepare input data\n",
        "    user_input = np.array([[energy_usage, transport_distance, waste_generated, diet_impact, sector_impact, industrial_usage]])\n",
        "    user_input_scaled = scaler.transform(user_input)\n",
        "\n",
        "    # Convert to DataFrame for SHAP compatibility\n",
        "    user_input_df = pd.DataFrame(user_input_scaled, columns=feature_names)\n",
        "\n",
        "    # Make prediction\n",
        "    prediction = xgb_model.predict(user_input_scaled)\n",
        "    st.write(f\"🌱 **Estimated Carbon Footprint: {prediction[0]:.2f} tons CO2/year**\")\n",
        "\n",
        "    # Generate SHAP Explainer\n",
        "    X_train_sample = pd.DataFrame(np.random.randn(10, len(feature_names)), columns=feature_names)\n",
        "    explainer = shap.Explainer(xgb_model, X_train_sample)\n",
        "    shap_values = explainer(user_input_df)\n",
        "\n",
        "    # SHAP Waterfall Plot\n",
        "    st.subheader(\"📊 SHAP Waterfall Plot - Feature Contribution\")\n",
        "    fig, ax = plt.subplots(figsize=(8, 6))\n",
        "    shap.waterfall_plot(shap_values[0], show=False)\n",
        "    st.pyplot(fig)\n",
        "\n",
        "    # SHAP Beeswarm Plot\n",
        "    st.subheader(\"📊 SHAP Beeswarm Plot - Feature Importance\")\n",
        "    fig, ax = plt.subplots(figsize=(8, 6))\n",
        "    shap.summary_plot(shap_values, user_input_df, feature_names=feature_names, show=False)\n",
        "    st.pyplot(fig)\n",
        "\n",
        "    # Provide Personalized Reduction Strategies\n",
        "    st.subheader(\"🚀 Reduction Strategies\")\n",
        "    strategies = []\n",
        "\n",
        "    if energy_usage > 300:\n",
        "        strategies.append(\"🔋 Reduce energy consumption by switching to renewable sources like solar or wind.\")\n",
        "    if transport_distance > 200:\n",
        "        strategies.append(\"🚲 Use public transport, carpool, or switch to electric vehicles.\")\n",
        "    if waste_generated > 50:\n",
        "        strategies.append(\"♻️ Reduce waste by recycling, composting, and minimizing single-use plastics.\")\n",
        "    if diet_impact > 0.6:\n",
        "        strategies.append(\"🥗 Consider a plant-based diet or reducing meat consumption to lower emissions.\")\n",
        "    if industrial_usage > 1000:\n",
        "        strategies.append(\"🏭 Optimize industrial energy use with smart grid technology and energy-efficient machinery.\")\n",
        "\n",
        "    if strategies:\n",
        "        for strategy in strategies:\n",
        "            st.write(strategy)\n",
        "    else:\n",
        "        st.write(\"✅ Your carbon footprint is already low! Keep up the sustainable practices. 🎉\")\n",
        "\n",
        "# ✅ Chatbot Section with Session State Fix\n",
        "with st.expander(\"💬 **Ask Gemini AI About Sustainability**\"):\n",
        "    st.write(\"Ask anything related to sustainability, climate change, and carbon footprint reduction.\")\n",
        "\n",
        "    # ✅ Initialize chat history in session state\n",
        "    if \"chat_history\" not in st.session_state:\n",
        "        st.session_state.chat_history = []\n",
        "\n",
        "    user_input = st.text_input(\"Type your question:\")\n",
        "\n",
        "    if st.button(\"Ask Gemini\"):\n",
        "        if user_input:\n",
        "            def gemini_chatbot(question):\n",
        "                try:\n",
        "                    model = genai.GenerativeModel(\"gemini-pro\")\n",
        "                    response = model.generate_content(question)\n",
        "                    return response.text if hasattr(response, \"text\") else \"Sorry, I couldn't generate a response.\"\n",
        "                except Exception as e:\n",
        "                    return f\"Error: {e}\"\n",
        "\n",
        "            response = gemini_chatbot(user_input)\n",
        "\n",
        "            # ✅ Store conversation in session state\n",
        "            st.session_state.chat_history.append((\"You: \" + user_input, \"🤖 Gemini AI: \" + response))\n",
        "\n",
        "    # ✅ Display chat history\n",
        "    for user_msg, ai_msg in st.session_state.chat_history:\n",
        "        st.write(user_msg)\n",
        "        st.write(ai_msg)\n"
      ],
      "metadata": {
        "colab": {
          "base_uri": "https://localhost:8080/"
        },
        "id": "40aGuvCmCdgx",
        "outputId": "7c2b03ac-1587-4a6b-f158-6267fedbcf89"
      },
      "execution_count": null,
      "outputs": [
        {
          "output_type": "stream",
          "name": "stdout",
          "text": [
            "Overwriting app.py\n"
          ]
        }
      ]
    },
    {
      "cell_type": "code",
      "execution_count": null,
      "metadata": {
        "colab": {
          "base_uri": "https://localhost:8080/"
        },
        "id": "BnEe2vqZmZnQ",
        "outputId": "2da6036e-c8c1-4bf5-f583-3d0e24452f54"
      },
      "outputs": [
        {
          "output_type": "execute_result",
          "data": {
            "text/plain": [
              "['xgb_model.pkl']"
            ]
          },
          "metadata": {},
          "execution_count": 23
        }
      ],
      "source": [
        "import joblib\n",
        "joblib.dump(scaler, \"scaler.pkl\")\n",
        "joblib.dump(xgb_model, \"xgb_model.pkl\")\n"
      ]
    },
    {
      "cell_type": "code",
      "execution_count": null,
      "metadata": {
        "colab": {
          "base_uri": "https://localhost:8080/"
        },
        "id": "GLE3otOYoAO-",
        "outputId": "f269295a-7dbb-4c8d-a198-0a5c1880985c"
      },
      "outputs": [
        {
          "output_type": "stream",
          "name": "stdout",
          "text": [
            "\n",
            "Collecting usage statistics. To deactivate, set browser.gatherUsageStats to false.\n",
            "\u001b[0m\n",
            "\u001b[1G\u001b[0K⠙\u001b[1G\u001b[0K⠹\u001b[0m\n",
            "\u001b[34m\u001b[1m  You can now view your Streamlit app in your browser.\u001b[0m\n",
            "\u001b[0m\n",
            "\u001b[34m  Local URL: \u001b[0m\u001b[1mhttp://localhost:8501\u001b[0m\n",
            "\u001b[34m  Network URL: \u001b[0m\u001b[1mhttp://172.28.0.12:8501\u001b[0m\n",
            "\u001b[34m  External URL: \u001b[0m\u001b[1mhttp://35.240.163.227:8501\u001b[0m\n",
            "\u001b[0m\n",
            "\u001b[1G\u001b[0K⠸\u001b[1G\u001b[0K⠼\u001b[1G\u001b[0K⠴\u001b[1G\u001b[0Kyour url is: https://young-suits-kiss.loca.lt\n",
            "/usr/local/lib/python3.11/dist-packages/sklearn/utils/validation.py:2739: UserWarning: X does not have valid feature names, but MinMaxScaler was fitted with feature names\n",
            "  warnings.warn(\n"
          ]
        }
      ],
      "source": [
        "!streamlit run app.py & npx localtunnel --port 8501\n"
      ]
    }
  ],
  "metadata": {
    "colab": {
      "provenance": [],
      "gpuType": "T4",
      "include_colab_link": true
    },
    "kernelspec": {
      "display_name": "Python 3",
      "name": "python3"
    },
    "language_info": {
      "name": "python"
    },
    "accelerator": "GPU"
  },
  "nbformat": 4,
  "nbformat_minor": 0
}
